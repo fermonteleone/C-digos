{
 "cells": [
  {
   "cell_type": "code",
   "execution_count": 20,
   "metadata": {},
   "outputs": [],
   "source": []
  },
  {
   "cell_type": "code",
   "execution_count": 41,
   "metadata": {},
   "outputs": [],
   "source": [
    "from requests import get\n",
    "from bs4 import BeautifulSoup as bs"
   ]
  },
  {
   "cell_type": "code",
   "execution_count": 66,
   "metadata": {},
   "outputs": [],
   "source": [
    "titulos=[]\n",
    "texto =[]\n",
    "localizacao=[]\n",
    "dia = []\n",
    "id = []\n",
    "header =  {'User-Agent' : 'Mozilla/5.0 (Windows NT 10.0; Win64; x64; rv:107.0) Gecko/20100101 Firefox/107.0'}"
   ]
  },
  {
   "cell_type": "code",
   "execution_count": 67,
   "metadata": {},
   "outputs": [],
   "source": [
    "for i in range(1,51):\n",
    "    site=f'https://www.reclameaqui.com.br/empresa/bradesco/lista-reclamacoes/?pagina={i}'\n",
    "\n",
    "    url = get(site,headers=header)\n",
    "    \n",
    "    soup = url.text\n",
    "\n",
    "    # %%\n",
    "    soup= bs(soup,'html.parser')\n",
    "\n",
    "    # %%\n",
    "    div=soup.find_all('div',{'class':\"sc-1pe7b5t-0 iQGzPh\"})\n",
    "   \n",
    "    # %%\n",
    "    links=[]\n",
    "    sites = 'https://www.reclameaqui.com.br'\n",
    "    for y in div:\n",
    "        a = y.find('a')\n",
    "        \n",
    "        link = a['href']\n",
    "       \n",
    "        links.append(sites+link)\n",
    "   \n",
    "    # %%\n",
    "    \n",
    "    for link in links:\n",
    "\n",
    "        #titulos\n",
    "        url2=get(link,headers=header)\n",
    "        soup = url2.text\n",
    "        soup= bs(soup,'html.parser')\n",
    "        h1 = soup.find_all('h1',{'data-testid':'complaint-title'})\n",
    "        titulos.append(h1[0].contents[0])\n",
    "\n",
    "        #texto\n",
    "        p = soup.find_all('p',{'data-testid':'complaint-description'})\n",
    "        for text in p:\n",
    "            x=text.get_text()\n",
    "        texto.append(x.upper())\n",
    "\n",
    "        #localização\n",
    "        loc = soup.find_all('span',{'data-testid':'complaint-location'})\n",
    "        for text in loc:\n",
    "            x=text.get_text()\n",
    "        localizacao.append(x)\n",
    "\n",
    "        #data\n",
    "        date = soup.find_all('span',{'data-testid':'complaint-creation-date'})\n",
    "        for text in date:\n",
    "            x=text.get_text()\n",
    "            x=x[:10]\n",
    "        dia.append(x)\n",
    "\n",
    "        #id\n",
    "        chave = soup.find_all('span',{'data-testid':'complaint-id'})\n",
    "        for text in chave:\n",
    "            x=text.get_text()\n",
    "            x=x[4:len(x)+1]\n",
    "        id.append(x)"
   ]
  },
  {
   "cell_type": "code",
   "execution_count": 68,
   "metadata": {},
   "outputs": [],
   "source": [
    "import pandas as pd\n",
    "data={'id':id,'Data':dia,'Título': titulos, 'Reclamação':texto,\"Localização\":localizacao}\n",
    "df = pd.DataFrame(data)\n",
    "df=df.drop_duplicates()\n",
    "df.reset_index(drop=True, inplace=True)\n",
    "\n",
    "df.to_excel('C:\\\\Users\\\\Lenovo\\\\Downloads\\\\reclame_aqui_bradesco4.xlsx')"
   ]
  },
  {
   "cell_type": "code",
   "execution_count": 62,
   "metadata": {},
   "outputs": [],
   "source": [
    "novo_df = df[df['Reclamação'].str.contains('BRADESCO EXPRESSO|CORRESPONDENTE|EXPRESSO', case=False, na=False, regex=True)]"
   ]
  },
  {
   "cell_type": "code",
   "execution_count": 63,
   "metadata": {},
   "outputs": [
    {
     "data": {
      "text/html": [
       "<div>\n",
       "<style scoped>\n",
       "    .dataframe tbody tr th:only-of-type {\n",
       "        vertical-align: middle;\n",
       "    }\n",
       "\n",
       "    .dataframe tbody tr th {\n",
       "        vertical-align: top;\n",
       "    }\n",
       "\n",
       "    .dataframe thead th {\n",
       "        text-align: right;\n",
       "    }\n",
       "</style>\n",
       "<table border=\"1\" class=\"dataframe\">\n",
       "  <thead>\n",
       "    <tr style=\"text-align: right;\">\n",
       "      <th></th>\n",
       "      <th>id</th>\n",
       "      <th>Data</th>\n",
       "      <th>Título</th>\n",
       "      <th>Reclamação</th>\n",
       "      <th>Localização</th>\n",
       "    </tr>\n",
       "  </thead>\n",
       "  <tbody>\n",
       "    <tr>\n",
       "      <th>149</th>\n",
       "      <td>174782899</td>\n",
       "      <td>26/10/2023</td>\n",
       "      <td>Agência Bradesco 3131 em Curitiba-PR Recusou A...</td>\n",
       "      <td>AO BRADESCO S/A, BACEN E PROCON-PRPREZADOS,NA ...</td>\n",
       "      <td>Curitiba - PR</td>\n",
       "    </tr>\n",
       "  </tbody>\n",
       "</table>\n",
       "</div>"
      ],
      "text/plain": [
       "            id        Data                                             Título  \\\n",
       "149  174782899  26/10/2023  Agência Bradesco 3131 em Curitiba-PR Recusou A...   \n",
       "\n",
       "                                            Reclamação    Localização  \n",
       "149  AO BRADESCO S/A, BACEN E PROCON-PRPREZADOS,NA ...  Curitiba - PR  "
      ]
     },
     "execution_count": 63,
     "metadata": {},
     "output_type": "execute_result"
    }
   ],
   "source": [
    "novo_df"
   ]
  },
  {
   "cell_type": "code",
   "execution_count": 64,
   "metadata": {},
   "outputs": [],
   "source": [
    "df.to_excel('C:\\\\Users\\\\Lenovo\\\\Downloads\\\\reclame_aqui_bradesco3.xlsx')"
   ]
  },
  {
   "cell_type": "code",
   "execution_count": null,
   "metadata": {},
   "outputs": [],
   "source": []
  }
 ],
 "metadata": {
  "kernelspec": {
   "display_name": "Python 3",
   "language": "python",
   "name": "python3"
  },
  "language_info": {
   "codemirror_mode": {
    "name": "ipython",
    "version": 3
   },
   "file_extension": ".py",
   "mimetype": "text/x-python",
   "name": "python",
   "nbconvert_exporter": "python",
   "pygments_lexer": "ipython3",
   "version": "3.10.6"
  },
  "orig_nbformat": 4
 },
 "nbformat": 4,
 "nbformat_minor": 2
}
